{
 "cells": [
  {
   "cell_type": "code",
   "execution_count": null,
   "id": "5e087b48",
   "metadata": {},
   "outputs": [],
   "source": [
    "include(\"lattice_functions.jl\")\n",
    "include(\"metropolis.jl\")\n",
    "include(\"wolff.jl\")"
   ]
  }
 ],
 "metadata": {
  "kernelspec": {
   "display_name": "Julia 1.6.0",
   "language": "julia",
   "name": "julia-1.6"
  },
  "language_info": {
   "file_extension": ".jl",
   "mimetype": "application/julia",
   "name": "julia",
   "version": "1.6.0"
  }
 },
 "nbformat": 4,
 "nbformat_minor": 5
}
